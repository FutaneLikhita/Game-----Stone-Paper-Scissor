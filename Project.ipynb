{
 "cells": [
  {
   "cell_type": "markdown",
   "id": "f576431a-1ab1-4f53-afe5-f0f4df54db4e",
   "metadata": {},
   "source": [
    "# Project  "
   ]
  },
  {
   "cell_type": "code",
   "execution_count": 7,
   "id": "11c3afb6-a198-4652-848d-68ad8574ee2a",
   "metadata": {},
   "outputs": [
    {
     "name": "stdin",
     "output_type": "stream",
     "text": [
      "Enter from user : si\n"
     ]
    },
    {
     "name": "stdout",
     "output_type": "stream",
     "text": [
      "You Won\n"
     ]
    }
   ],
   "source": [
    "\"\"\" s = 1       # s for stone \n",
    "    p = -1      # p for paper\n",
    "    si = 0      # si for scissor\n",
    "\"\"\" \n",
    "\n",
    "import random \n",
    "\n",
    "computer = random.choice([-1, 0, 1])\n",
    "\n",
    "\n",
    "youstring = input(\"Enter from user :\") \n",
    "\n",
    "\n",
    "youdict = {\n",
    "    's' : -1,\n",
    "    'p' :  1,\n",
    "    'si' :  0 \n",
    "}  \n",
    "\n",
    "you = youdict[youstring]  \n",
    "\n",
    "if (computer == -1 and you == 1):\n",
    "    print(\"You Won\")    \n",
    "\n",
    "elif (computer == -1 and you == 0):\n",
    "    print(\"You Lose\") \n",
    "\n",
    "elif (computer == -1 and you == -1):\n",
    "    print(\"Draw\")\n",
    "\n",
    "elif (computer == 1) and (you == 0):\n",
    "    print(\"You Won\")\n",
    "\n",
    "elif (computer == 1) and (you == -1):\n",
    "    print(\"You Lose\")\n",
    "\n",
    "elif (computer == 1) and (you == 1):\n",
    "    print(\"Draw\")\n",
    "\n",
    "elif (computer == 0) and (you == -1):\n",
    "    print(\"You Won\")     \n",
    "\n",
    "elif (computer == 0) and (you == 1):\n",
    "    print(\"You Lose\")\n",
    "\n",
    "elif (computer == 0) and (you == 0):\n",
    "    print(\"Draw\") \n",
    "\n",
    "\n",
    "  \n",
    "\n",
    "\n",
    "\n",
    "            \n",
    "\n",
    "\n",
    "\n",
    "\n",
    "\n",
    "\n",
    "\n",
    "\n",
    "\n",
    "\n",
    "\n",
    "\n",
    "\n",
    "\n",
    "\n"
   ]
  },
  {
   "cell_type": "code",
   "execution_count": null,
   "id": "79c40f4f-2b3e-4897-a14f-5899383de55d",
   "metadata": {},
   "outputs": [],
   "source": []
  }
 ],
 "metadata": {
  "kernelspec": {
   "display_name": "Python 3 (ipykernel)",
   "language": "python",
   "name": "python3"
  },
  "language_info": {
   "codemirror_mode": {
    "name": "ipython",
    "version": 3
   },
   "file_extension": ".py",
   "mimetype": "text/x-python",
   "name": "python",
   "nbconvert_exporter": "python",
   "pygments_lexer": "ipython3",
   "version": "3.11.4"
  }
 },
 "nbformat": 4,
 "nbformat_minor": 5
}
